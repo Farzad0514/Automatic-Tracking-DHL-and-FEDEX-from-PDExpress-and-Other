{
 "cells": [
  {
   "cell_type": "code",
   "execution_count": 2,
   "metadata": {},
   "outputs": [],
   "source": [
    "import os\n",
    "import pandas as pd"
   ]
  },
  {
   "cell_type": "code",
   "execution_count": null,
   "metadata": {},
   "outputs": [],
   "source": [
    "os.getcwd()"
   ]
  },
  {
   "cell_type": "code",
   "execution_count": 6,
   "metadata": {},
   "outputs": [],
   "source": [
    "listDr=os.listdir()"
   ]
  },
  {
   "cell_type": "code",
   "execution_count": 12,
   "metadata": {},
   "outputs": [
    {
     "data": {
      "text/plain": [
       "'C:\\\\Users\\\\Farzad\\\\Python\\\\hafiz'"
      ]
     },
     "execution_count": 12,
     "metadata": {},
     "output_type": "execute_result"
    }
   ],
   "source": [
    "os.getcwd()"
   ]
  },
  {
   "cell_type": "code",
   "execution_count": 13,
   "metadata": {},
   "outputs": [],
   "source": [
    "os.chdir('DhlRateSheet')"
   ]
  },
  {
   "cell_type": "code",
   "execution_count": 14,
   "metadata": {},
   "outputs": [
    {
     "data": {
      "text/plain": [
       "'C:\\\\Users\\\\Farzad\\\\Python\\\\hafiz\\\\DhlRateSheet'"
      ]
     },
     "execution_count": 14,
     "metadata": {},
     "output_type": "execute_result"
    }
   ],
   "source": [
    "os.getcwd()"
   ]
  },
  {
   "cell_type": "code",
   "execution_count": 15,
   "metadata": {},
   "outputs": [],
   "source": [
    "listDr=os.listdir()"
   ]
  },
  {
   "cell_type": "code",
   "execution_count": 18,
   "metadata": {},
   "outputs": [],
   "source": [
    "if 'other.csv' in listDr:\n",
    "    OtherRate=pd.read_csv('other.csv')"
   ]
  },
  {
   "cell_type": "code",
   "execution_count": 41,
   "metadata": {},
   "outputs": [],
   "source": [
    "DoxRate=OtherRate.iloc[3:8, 0:12]"
   ]
  },
  {
   "cell_type": "code",
   "execution_count": 42,
   "metadata": {},
   "outputs": [
    {
     "data": {
      "text/html": [
       "<div>\n",
       "<style scoped>\n",
       "    .dataframe tbody tr th:only-of-type {\n",
       "        vertical-align: middle;\n",
       "    }\n",
       "\n",
       "    .dataframe tbody tr th {\n",
       "        vertical-align: top;\n",
       "    }\n",
       "\n",
       "    .dataframe thead th {\n",
       "        text-align: right;\n",
       "    }\n",
       "</style>\n",
       "<table border=\"1\" class=\"dataframe\">\n",
       "  <thead>\n",
       "    <tr style=\"text-align: right;\">\n",
       "      <th></th>\n",
       "      <th>Unnamed: 0</th>\n",
       "      <th>Unnamed: 1</th>\n",
       "      <th>Unnamed: 2</th>\n",
       "      <th>Unnamed: 3</th>\n",
       "      <th>Unnamed: 4</th>\n",
       "      <th>Unnamed: 5</th>\n",
       "      <th>Unnamed: 6</th>\n",
       "      <th>Unnamed: 7</th>\n",
       "      <th>Unnamed: 8</th>\n",
       "      <th>Unnamed: 9</th>\n",
       "      <th>Unnamed: 10</th>\n",
       "      <th>Unnamed: 11</th>\n",
       "    </tr>\n",
       "  </thead>\n",
       "  <tbody>\n",
       "    <tr>\n",
       "      <th>3</th>\n",
       "      <td>Weight\\n(Kg)</td>\n",
       "      <td>Zone 1</td>\n",
       "      <td>Zone 2</td>\n",
       "      <td>Zone 3</td>\n",
       "      <td>Zone 4</td>\n",
       "      <td>Zone 5</td>\n",
       "      <td>Zone 6</td>\n",
       "      <td>Zone 7</td>\n",
       "      <td>Zone 8</td>\n",
       "      <td>Zone 9</td>\n",
       "      <td>Zone 10</td>\n",
       "      <td>Zone 11</td>\n",
       "    </tr>\n",
       "    <tr>\n",
       "      <th>4</th>\n",
       "      <td>0.5</td>\n",
       "      <td>3,577</td>\n",
       "      <td>2,979</td>\n",
       "      <td>3,692</td>\n",
       "      <td>3,987</td>\n",
       "      <td>3,925</td>\n",
       "      <td>4,192</td>\n",
       "      <td>3,561</td>\n",
       "      <td>4,927</td>\n",
       "      <td>4,119</td>\n",
       "      <td>2,291</td>\n",
       "      <td>2,367</td>\n",
       "    </tr>\n",
       "    <tr>\n",
       "      <th>5</th>\n",
       "      <td>1.0</td>\n",
       "      <td>4,404</td>\n",
       "      <td>3,818</td>\n",
       "      <td>4,555</td>\n",
       "      <td>5,580</td>\n",
       "      <td>5,543</td>\n",
       "      <td>5,990</td>\n",
       "      <td>4,056</td>\n",
       "      <td>6,606</td>\n",
       "      <td>4,883</td>\n",
       "      <td>2,605</td>\n",
       "      <td>3,103</td>\n",
       "    </tr>\n",
       "    <tr>\n",
       "      <th>6</th>\n",
       "      <td>1.5</td>\n",
       "      <td>5,231</td>\n",
       "      <td>4,656</td>\n",
       "      <td>5,419</td>\n",
       "      <td>7,172</td>\n",
       "      <td>7,161</td>\n",
       "      <td>7,788</td>\n",
       "      <td>4,592</td>\n",
       "      <td>8,286</td>\n",
       "      <td>5,647</td>\n",
       "      <td>2,919</td>\n",
       "      <td>3,838</td>\n",
       "    </tr>\n",
       "    <tr>\n",
       "      <th>7</th>\n",
       "      <td>2.0</td>\n",
       "      <td>6,059</td>\n",
       "      <td>5,495</td>\n",
       "      <td>6,283</td>\n",
       "      <td>8,765</td>\n",
       "      <td>8,779</td>\n",
       "      <td>9,585</td>\n",
       "      <td>5,481</td>\n",
       "      <td>9,966</td>\n",
       "      <td>6,412</td>\n",
       "      <td>3,233</td>\n",
       "      <td>4,574</td>\n",
       "    </tr>\n",
       "  </tbody>\n",
       "</table>\n",
       "</div>"
      ],
      "text/plain": [
       "     Unnamed: 0 Unnamed: 1 Unnamed: 2 Unnamed: 3 Unnamed: 4 Unnamed: 5  \\\n",
       "3  Weight\\n(Kg)     Zone 1     Zone 2     Zone 3     Zone 4     Zone 5   \n",
       "4           0.5      3,577      2,979      3,692      3,987      3,925   \n",
       "5           1.0      4,404      3,818      4,555      5,580      5,543   \n",
       "6           1.5      5,231      4,656      5,419      7,172      7,161   \n",
       "7           2.0      6,059      5,495      6,283      8,765      8,779   \n",
       "\n",
       "  Unnamed: 6 Unnamed: 7 Unnamed: 8 Unnamed: 9 Unnamed: 10 Unnamed: 11  \n",
       "3     Zone 6     Zone 7     Zone 8     Zone 9     Zone 10     Zone 11  \n",
       "4      4,192      3,561      4,927      4,119       2,291       2,367  \n",
       "5      5,990      4,056      6,606      4,883       2,605       3,103  \n",
       "6      7,788      4,592      8,286      5,647       2,919       3,838  \n",
       "7      9,585      5,481      9,966      6,412       3,233       4,574  "
      ]
     },
     "execution_count": 42,
     "metadata": {},
     "output_type": "execute_result"
    }
   ],
   "source": [
    "DoxRate.head()"
   ]
  },
  {
   "cell_type": "code",
   "execution_count": 43,
   "metadata": {},
   "outputs": [],
   "source": [
    "WpxRate=OtherRate.iloc[10:611, 0:12]"
   ]
  },
  {
   "cell_type": "code",
   "execution_count": 87,
   "metadata": {},
   "outputs": [
    {
     "data": {
      "text/plain": [
       "False"
      ]
     },
     "execution_count": 87,
     "metadata": {},
     "output_type": "execute_result"
    }
   ],
   "source": [
    "weight= 1.0\n",
    "zone= 'Unnamed: 5'\n",
    "weight in DoxRate['Unnamed: 0']"
   ]
  },
  {
   "cell_type": "code",
   "execution_count": 68,
   "metadata": {},
   "outputs": [],
   "source": [
    "data2=DoxRate['Unnamed: 0']"
   ]
  },
  {
   "cell_type": "code",
   "execution_count": 86,
   "metadata": {},
   "outputs": [
    {
     "name": "stdout",
     "output_type": "stream",
     "text": [
      "not found\n",
      "not found\n",
      "found 1.0\n",
      "not found\n",
      "not found\n"
     ]
    }
   ],
   "source": [
    "for i in range(3, 8):\n",
    "    if str(data2[i])==str(weight):\n",
    "        print('found '+str(data2[i]))\n",
    "    else:\n",
    "        print('not found')"
   ]
  },
  {
   "cell_type": "code",
   "execution_count": 88,
   "metadata": {},
   "outputs": [
    {
     "data": {
      "text/plain": [
       "'5,543'"
      ]
     },
     "execution_count": 88,
     "metadata": {},
     "output_type": "execute_result"
    }
   ],
   "source": [
    "DoxRate.at[DoxRate.loc[DoxRate['Unnamed: 0']==str(weight)].index[0],zone]"
   ]
  },
  {
   "cell_type": "code",
   "execution_count": 91,
   "metadata": {},
   "outputs": [],
   "source": [
    "def ratesheet(file, weight, zone):\n",
    "    rate= file.at[file.loc[file['Unnamed: 0']==str(weight)].index[0],zone]\n",
    "    return rate"
   ]
  },
  {
   "cell_type": "code",
   "execution_count": 92,
   "metadata": {},
   "outputs": [
    {
     "data": {
      "text/plain": [
       "'17,214'"
      ]
     },
     "execution_count": 92,
     "metadata": {},
     "output_type": "execute_result"
    }
   ],
   "source": [
    "ratesheet(WpxRate, 4.0, 'Unnamed: 6')"
   ]
  },
  {
   "cell_type": "code",
   "execution_count": null,
   "metadata": {},
   "outputs": [],
   "source": []
  }
 ],
 "metadata": {
  "kernelspec": {
   "display_name": "Python 3",
   "language": "python",
   "name": "python3"
  },
  "language_info": {
   "codemirror_mode": {
    "name": "ipython",
    "version": 3
   },
   "file_extension": ".py",
   "mimetype": "text/x-python",
   "name": "python",
   "nbconvert_exporter": "python",
   "pygments_lexer": "ipython3",
   "version": "3.8.3"
  }
 },
 "nbformat": 4,
 "nbformat_minor": 4
}
