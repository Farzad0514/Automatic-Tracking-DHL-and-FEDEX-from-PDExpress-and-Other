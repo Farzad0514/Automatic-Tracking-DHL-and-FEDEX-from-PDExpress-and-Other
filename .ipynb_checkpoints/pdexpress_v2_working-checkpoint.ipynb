{
 "cells": [
  {
   "cell_type": "code",
   "execution_count": 1,
   "metadata": {},
   "outputs": [],
   "source": [
    "from selenium import webdriver\n",
    "import time\n",
    "driver = webdriver.Firefox(executable_path=\"C:/Users/Farzad/webDrivers/geckodriver.exe\")\n",
    "#url= input('URL : ')\n",
    "url='http://www.pdexpress.net'\n",
    "driver.get(url)\n"
   ]
  },
  {
   "cell_type": "code",
   "execution_count": 54,
   "metadata": {},
   "outputs": [],
   "source": [
    "import pandas as pd\n",
    "import time\n",
    "data= pd.read_csv('trackingcode/tracking.csv')\n",
    "\n",
    "dhlTrackingCodes = data['dhl']\n",
    "\n",
    "len(dhlTrackingCodes)\n",
    "\n",
    "l=[]\n",
    "\n",
    "for k in range(0, int(len(dhlTrackingCodes))):\n",
    "    url='http://www.pdexpress.net'\n",
    "    driver.get(url)\n",
    "    \n",
    "    time.sleep(2)\n",
    "    \n",
    "    dropDown= driver.find_element_by_xpath('//*[@id=\"select\"]').click()\n",
    "    option= driver.find_elements_by_tag_name('option')\n",
    "    option[9].click() #select DHL usA\n",
    "\n",
    "    inputField= driver.find_element_by_xpath('//*[@id=\"input\"]')\n",
    "    inputField.send_keys(str(dhlTrackingCodes[k])) #enter tracking number\n",
    "    btn= driver.find_element_by_css_selector('body > table > tbody > tr:nth-child(2) > td > table > tbody > tr:nth-child(2) > td > form > button').click() #click track button\n",
    "\n",
    "\n",
    "    \n",
    "    try:\n",
    "        table= driver.find_element_by_class_name('text1')\n",
    "        tbody= table.find_element_by_tag_name('tbody')\n",
    "        tr= tbody.find_elements_by_tag_name('tr')\n",
    "\n",
    "        d={}\n",
    "        \n",
    "        for i in range (0, int(len(tr))):\n",
    "            \n",
    "            td= tr[i].find_elements_by_tag_name('td')\n",
    "            \n",
    "            d['Tracking']= str(dhlTrackingCodes[k])\n",
    "            \n",
    "            if 'To' in td[0].text:\n",
    "                d['Country']=td[1].text\n",
    "            if 'Shipper name' in td[0].text:\n",
    "                d['Shipper'] =td[1].text\n",
    "            if 'Shipper ref' in td[0].text:     \n",
    "                d['Apx No'] =td[1].text\n",
    "\n",
    "            if 'desc' in td[0].text:     \n",
    "                d['Description'] =td[1].text\n",
    "            if 'date' in td[0].text:     \n",
    "                d['Date'] =td[1].text\n",
    "\n",
    "            if 'Consignee' in td[0].text:     \n",
    "                d['CONSIGNEE NAME'] =td[1].text\n",
    "\n",
    "            if 'Weight' in td[0].text:     \n",
    "                d['Weight Charged'] =td[1].text\n",
    "            if 'status' in td[0].text:     \n",
    "                d['Status'] =td[1].text\n",
    "\n",
    "            l.append(d)\n",
    "\n",
    "    except: print('Failed for: ' + str(dhlTrackingCodes[k]))\n",
    "        \n",
    "    #driver.close()\n",
    "    time.sleep(2)"
   ]
  },
  {
   "cell_type": "code",
   "execution_count": 55,
   "metadata": {},
   "outputs": [],
   "source": [
    "df= pd.DataFrame(l)"
   ]
  },
  {
   "cell_type": "code",
   "execution_count": 56,
   "metadata": {},
   "outputs": [
    {
     "data": {
      "text/plain": [
       "(9, 9)"
      ]
     },
     "execution_count": 56,
     "metadata": {},
     "output_type": "execute_result"
    }
   ],
   "source": [
    "df.shape"
   ]
  },
  {
   "cell_type": "code",
   "execution_count": 57,
   "metadata": {},
   "outputs": [],
   "source": [
    "df2= df.drop_duplicates()"
   ]
  },
  {
   "cell_type": "code",
   "execution_count": 58,
   "metadata": {},
   "outputs": [
    {
     "data": {
      "text/plain": [
       "(1, 9)"
      ]
     },
     "execution_count": 58,
     "metadata": {},
     "output_type": "execute_result"
    }
   ],
   "source": [
    "df2.shape"
   ]
  },
  {
   "cell_type": "code",
   "execution_count": 53,
   "metadata": {
    "scrolled": true
   },
   "outputs": [
    {
     "data": {
      "text/html": [
       "<div>\n",
       "<style scoped>\n",
       "    .dataframe tbody tr th:only-of-type {\n",
       "        vertical-align: middle;\n",
       "    }\n",
       "\n",
       "    .dataframe tbody tr th {\n",
       "        vertical-align: top;\n",
       "    }\n",
       "\n",
       "    .dataframe thead th {\n",
       "        text-align: right;\n",
       "    }\n",
       "</style>\n",
       "<table border=\"1\" class=\"dataframe\">\n",
       "  <thead>\n",
       "    <tr style=\"text-align: right;\">\n",
       "      <th></th>\n",
       "      <th>Status</th>\n",
       "      <th>Country</th>\n",
       "      <th>Shipper</th>\n",
       "      <th>Apx No</th>\n",
       "      <th>Description</th>\n",
       "      <th>CONSIGNEE NAME</th>\n",
       "      <th>Date</th>\n",
       "      <th>Weight Charged</th>\n",
       "    </tr>\n",
       "  </thead>\n",
       "  <tbody>\n",
       "    <tr>\n",
       "      <th>0</th>\n",
       "      <td>Departed Facility in LAHORE-PAK</td>\n",
       "      <td>CHARLOTTE,NC-USA</td>\n",
       "      <td>HIGHLANDER KILT</td>\n",
       "      <td>357857~58330697</td>\n",
       "      <td>KILT OUTFITS</td>\n",
       "      <td>TRACY LATZ</td>\n",
       "      <td>Nov 23, 2020</td>\n",
       "      <td>4.9 Kilograms</td>\n",
       "    </tr>\n",
       "  </tbody>\n",
       "</table>\n",
       "</div>"
      ],
      "text/plain": [
       "                            Status           Country          Shipper  \\\n",
       "0  Departed Facility in LAHORE-PAK  CHARLOTTE,NC-USA  HIGHLANDER KILT   \n",
       "\n",
       "            Apx No   Description CONSIGNEE NAME          Date Weight Charged  \n",
       "0  357857~58330697  KILT OUTFITS     TRACY LATZ  Nov 23, 2020  4.9 Kilograms  "
      ]
     },
     "execution_count": 53,
     "metadata": {},
     "output_type": "execute_result"
    }
   ],
   "source": [
    "df2.to_csv('output/bookingdata.csv')"
   ]
  }
 ],
 "metadata": {
  "kernelspec": {
   "display_name": "Python 3",
   "language": "python",
   "name": "python3"
  },
  "language_info": {
   "codemirror_mode": {
    "name": "ipython",
    "version": 3
   },
   "file_extension": ".py",
   "mimetype": "text/x-python",
   "name": "python",
   "nbconvert_exporter": "python",
   "pygments_lexer": "ipython3",
   "version": "3.8.3"
  }
 },
 "nbformat": 4,
 "nbformat_minor": 4
}
