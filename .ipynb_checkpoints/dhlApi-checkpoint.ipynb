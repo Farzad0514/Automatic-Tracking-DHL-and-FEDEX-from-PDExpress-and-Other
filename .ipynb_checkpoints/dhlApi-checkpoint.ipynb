{
 "cells": [
  {
   "cell_type": "code",
   "execution_count": 1,
   "metadata": {},
   "outputs": [],
   "source": [
    "import requests"
   ]
  },
  {
   "cell_type": "code",
   "execution_count": 50,
   "metadata": {},
   "outputs": [],
   "source": [
    "import json\n",
    "import http.client\n",
    "\n",
    "# Replace with the correct URL\n",
    "url = \"https://api.dhl.com/dgff/transportation/shipment-status\"\n",
    "headers = {\n",
    "#'Accept': 'application/json',\n",
    "'DHL-API-Key': 'XObBbGIbfpVucxzcYAaBIrsFQJT8UbTe',\n",
    "'housebill': 'I9qljtWD2oKmAfd6',\n",
    "'DHL-API-Secret': 'I9qljtWD2oKmAfd6',\n",
    "'housebill': '5985112475'\n",
    "        }\n",
    "#connection = http.client.HTTPSConnection(\"https://api-eu.dhl.com\")\n",
    "\n",
    "myResponse = requests.get(url, headers=headers)\n",
    "\n",
    "# if(myResponse.ok):\n",
    "#  to fetch binary content\n",
    "#     jData = json.loads(myResponse.content)\n",
    "\n",
    "#     print(\"The response contains {0} properties\".format(len(jData)))\n",
    "#     print(\"\\n\")\n",
    "#     for key in jData:\n",
    "#         print (key + \" : \" + jData[key])\n",
    "# else:\n",
    "#   with description\n",
    "#     myResponse.raise_for_status()"
   ]
  },
  {
   "cell_type": "code",
   "execution_count": 51,
   "metadata": {},
   "outputs": [
    {
     "data": {
      "text/plain": [
       "400"
      ]
     },
     "execution_count": 51,
     "metadata": {},
     "output_type": "execute_result"
    }
   ],
   "source": [
    "myResponse.status_code"
   ]
  },
  {
   "cell_type": "code",
   "execution_count": 52,
   "metadata": {},
   "outputs": [
    {
     "name": "stdout",
     "output_type": "stream",
     "text": [
      "{'status': 400, 'title': 'Bad Request', 'detail': \"Unexpected query parameter(s). Only parameter 'housebill' is allowed\", 'api-correlation-id': '1f3d9dbb-713c-44ab-9b9f-24bcb062838a'}\n"
     ]
    }
   ],
   "source": [
    "print(myResponse.json())"
   ]
  },
  {
   "cell_type": "code",
   "execution_count": 36,
   "metadata": {},
   "outputs": [
    {
     "data": {
      "text/plain": [
       "{'Date': 'Wed, 03 Feb 2021 20:23:37 GMT', 'Content-Type': 'application/problem+json', 'Content-Length': '177', 'Connection': 'keep-alive', 'Content-Language': 'en', 'Access-Control-Allow-Origin': '*', 'Access-Control-Allow-Headers': 'authorization, origin, x-requested-with, accept, content-type, DHL-API-Key', 'Access-Control-Max-Age': '3628800', 'Access-Control-Allow-Methods': 'GET, POST, OPTIONS', 'Correlation-Id': '535c473a-4e73-4da2-8b30-93c09af5d5d4'}"
      ]
     },
     "execution_count": 36,
     "metadata": {},
     "output_type": "execute_result"
    }
   ],
   "source": [
    "myResponse.headers"
   ]
  },
  {
   "cell_type": "code",
   "execution_count": 62,
   "metadata": {},
   "outputs": [
    {
     "data": {
      "text/plain": [
       "<Response [400]>"
      ]
     },
     "execution_count": 62,
     "metadata": {},
     "output_type": "execute_result"
    }
   ],
   "source": [
    "myResponse"
   ]
  },
  {
   "cell_type": "code",
   "execution_count": 73,
   "metadata": {},
   "outputs": [
    {
     "name": "stdout",
     "output_type": "stream",
     "text": [
      "b'{\"status\":400,\"title\":\"Bad Request\",\"detail\":\"Unexpected query parameter(s). Only parameter \\'housebill\\' is allowed\", \"api-correlation-id\":\"03890172-1648-433b-9159-344c1239e5c7\"}'\n"
     ]
    }
   ],
   "source": [
    "import requests\n",
    "#url = \"https://api-eu.dhl.com/track/shipments\"\n",
    "#url = \"https://api.dhl.com/dgff/transportation/shipment-status\"\n",
    "\n",
    "url = 'https://api.dhl.com/dgff/transportation/shipment-tracking'\n",
    "#url = \"https://api-eu.dhl.com/track/shipments\"\n",
    "headers = {\n",
    "    'Accept': 'application/json',\n",
    "    'DHL-API-Key': 'IwEJTF0mG3GyYzsYAxq0pBWJnKqoA268'\n",
    "    }\n",
    "payload = {\n",
    "    'trackingNumber': '5985112475',\n",
    "    'service': 'express'\n",
    "}\n",
    "\n",
    "# This url is for testing \n",
    "#url = 'https://httpbin.org/get'\n",
    "resp = requests.get(url, params=payload, headers=headers)\n",
    "\n",
    "print(resp.content)"
   ]
  },
  {
   "cell_type": "code",
   "execution_count": 74,
   "metadata": {},
   "outputs": [
    {
     "name": "stdout",
     "output_type": "stream",
     "text": [
      "<Response [400]>\n"
     ]
    }
   ],
   "source": [
    "print(resp)"
   ]
  },
  {
   "cell_type": "code",
   "execution_count": 90,
   "metadata": {},
   "outputs": [
    {
     "name": "stdout",
     "output_type": "stream",
     "text": [
      "Status: 200 and reason: OK\n",
      "{'shipments': [{'id': '5985112475', 'service': 'express', 'origin': {'address': {'addressLocality': 'SIALKOT - SIALKOT - PAKISTAN'}}, 'destination': {'address': {'addressLocality': 'LAHORE - PYONGYANG - PAKISTAN'}}, 'status': {'timestamp': '2020-12-12T16:54:00', 'location': {'address': {'addressLocality': 'LAHORE - PAKISTAN'}}, 'statusCode': 'failure', 'status': 'exception', 'description': 'Returned to shipper'}, 'details': {'proofOfDelivery': {'signatureUrl': 'https://webpod.dhl.com/webPOD/DHLePODRequest?hwb=rTz%2FRoRovF1vaa3NAdqPnw%3D%3D&pudate=R2smOrMqv2izVn1kYJUHmA%3D%3D&appuid=K9saTSPsDGIpiLcZIOeLCw%3D%3D&language=en&country=G0', 'documentUrl': 'https://webpod.dhl.com/webPOD/DHLePODRequest?hwb=rTz%2FRoRovF1vaa3NAdqPnw%3D%3D&pudate=R2smOrMqv2izVn1kYJUHmA%3D%3D&appuid=K9saTSPsDGIpiLcZIOeLCw%3D%3D&language=en&country=G0'}, 'totalNumberOfPieces': 1, 'pieceIds': ['JD014600008086091490']}, 'events': [{'timestamp': '2020-12-12T16:54:00', 'location': {'address': {'addressLocality': 'LAHORE - PAKISTAN'}}, 'description': 'Returned to shipper'}, {'timestamp': '2020-12-12T09:07:00', 'location': {'address': {'addressLocality': 'LAHORE - PAKISTAN'}}, 'description': 'Clearance event'}, {'timestamp': '2020-12-11T08:51:00', 'location': {'address': {'addressLocality': 'LAHORE - PAKISTAN'}}, 'description': 'Clearance event'}, {'timestamp': '2020-12-11T04:02:00', 'location': {'address': {'addressLocality': 'LAHORE - PAKISTAN'}}, 'description': 'Arrived at Sort Facility LAHORE - PAKISTAN'}, {'timestamp': '2020-12-11T00:11:00', 'location': {'address': {'addressLocality': 'SIALKOT - PAKISTAN'}}, 'description': 'Departed Facility in SIALKOT - PAKISTAN'}, {'timestamp': '2020-12-10T23:39:00', 'location': {'address': {'addressLocality': 'SIALKOT - PAKISTAN'}}, 'description': 'Processed at SIALKOT - PAKISTAN'}, {'timestamp': '2020-12-10T19:14:00', 'location': {'address': {'addressLocality': 'SIALKOT - PAKISTAN'}}, 'description': 'Shipment picked up'}]}]}\n"
     ]
    }
   ],
   "source": [
    "import http.client\n",
    "import urllib.parse\n",
    "import json\n",
    "\n",
    "params = urllib.parse.urlencode({\n",
    "    'trackingNumber': '5985112475',\n",
    "    'service': 'express'\n",
    "})\n",
    "\n",
    "headers = {\n",
    "    'Accept': 'application/json',\n",
    "    'DHL-API-Key': 'p3gobvnJb7A1qAeiuAzNPpET5jHyv3aT'\n",
    "}\n",
    "\n",
    "connection = http.client.HTTPSConnection(\"api-eu.dhl.com\")\n",
    "\n",
    "connection.request(\"GET\", \"/track/shipments?\" + params, \"\", headers)\n",
    "response = connection.getresponse()\n",
    "\n",
    "status = response.status\n",
    "reason = response.reason\n",
    "data = json.loads(response.read())\n",
    "\n",
    "print(\"Status: {} and reason: {}\".format(status, reason))\n",
    "print(data)\n",
    "\n",
    "#connection.close()"
   ]
  },
  {
   "cell_type": "code",
   "execution_count": 91,
   "metadata": {},
   "outputs": [
    {
     "data": {
      "text/plain": [
       "{'shipments': [{'id': '5985112475',\n",
       "   'service': 'express',\n",
       "   'origin': {'address': {'addressLocality': 'SIALKOT - SIALKOT - PAKISTAN'}},\n",
       "   'destination': {'address': {'addressLocality': 'LAHORE - PYONGYANG - PAKISTAN'}},\n",
       "   'status': {'timestamp': '2020-12-12T16:54:00',\n",
       "    'location': {'address': {'addressLocality': 'LAHORE - PAKISTAN'}},\n",
       "    'statusCode': 'failure',\n",
       "    'status': 'exception',\n",
       "    'description': 'Returned to shipper'},\n",
       "   'details': {'proofOfDelivery': {'signatureUrl': 'https://webpod.dhl.com/webPOD/DHLePODRequest?hwb=rTz%2FRoRovF1vaa3NAdqPnw%3D%3D&pudate=R2smOrMqv2izVn1kYJUHmA%3D%3D&appuid=K9saTSPsDGIpiLcZIOeLCw%3D%3D&language=en&country=G0',\n",
       "     'documentUrl': 'https://webpod.dhl.com/webPOD/DHLePODRequest?hwb=rTz%2FRoRovF1vaa3NAdqPnw%3D%3D&pudate=R2smOrMqv2izVn1kYJUHmA%3D%3D&appuid=K9saTSPsDGIpiLcZIOeLCw%3D%3D&language=en&country=G0'},\n",
       "    'totalNumberOfPieces': 1,\n",
       "    'pieceIds': ['JD014600008086091490']},\n",
       "   'events': [{'timestamp': '2020-12-12T16:54:00',\n",
       "     'location': {'address': {'addressLocality': 'LAHORE - PAKISTAN'}},\n",
       "     'description': 'Returned to shipper'},\n",
       "    {'timestamp': '2020-12-12T09:07:00',\n",
       "     'location': {'address': {'addressLocality': 'LAHORE - PAKISTAN'}},\n",
       "     'description': 'Clearance event'},\n",
       "    {'timestamp': '2020-12-11T08:51:00',\n",
       "     'location': {'address': {'addressLocality': 'LAHORE - PAKISTAN'}},\n",
       "     'description': 'Clearance event'},\n",
       "    {'timestamp': '2020-12-11T04:02:00',\n",
       "     'location': {'address': {'addressLocality': 'LAHORE - PAKISTAN'}},\n",
       "     'description': 'Arrived at Sort Facility LAHORE - PAKISTAN'},\n",
       "    {'timestamp': '2020-12-11T00:11:00',\n",
       "     'location': {'address': {'addressLocality': 'SIALKOT - PAKISTAN'}},\n",
       "     'description': 'Departed Facility in SIALKOT - PAKISTAN'},\n",
       "    {'timestamp': '2020-12-10T23:39:00',\n",
       "     'location': {'address': {'addressLocality': 'SIALKOT - PAKISTAN'}},\n",
       "     'description': 'Processed at SIALKOT - PAKISTAN'},\n",
       "    {'timestamp': '2020-12-10T19:14:00',\n",
       "     'location': {'address': {'addressLocality': 'SIALKOT - PAKISTAN'}},\n",
       "     'description': 'Shipment picked up'}]}]}"
      ]
     },
     "execution_count": 91,
     "metadata": {},
     "output_type": "execute_result"
    }
   ],
   "source": [
    "data"
   ]
  },
  {
   "cell_type": "code",
   "execution_count": 100,
   "metadata": {},
   "outputs": [
    {
     "name": "stdout",
     "output_type": "stream",
     "text": [
      "Status: 404 and reason: Shipment Not Found\n",
      "{'type': 'Client error', 'title': 'Shipment Not Found'}\n"
     ]
    }
   ],
   "source": [
    "#tracking API\n",
    "\n",
    "import http.client\n",
    "import urllib.parse\n",
    "import json\n",
    "\n",
    "params = urllib.parse.urlencode({\n",
    "   # 'trackingNumber': '5985112475',\n",
    "   # 'service': 'express',\n",
    "    'housebill': '5985112475'\n",
    "})\n",
    "\n",
    "headers = {\n",
    "    #'Accept': 'application/json',\n",
    "    'DHL-API-Key': 'XObBbGIbfpVucxzcYAaBIrsFQJT8UbTe'\n",
    "}\n",
    "\n",
    "connection = http.client.HTTPSConnection(\"api.dhl.com\")\n",
    "\n",
    "connection.request(\"GET\", \"/dgff/transportation/shipment-status?\" + params, \"\", headers=headers)\n",
    "response = connection.getresponse()\n",
    "\n",
    "status = response.status\n",
    "reason = response.reason\n",
    "data = json.loads(response.read())\n",
    "\n",
    "print(\"Status: {} and reason: {}\".format(status, reason))\n",
    "print(data)\n",
    "\n",
    "#connection.close()"
   ]
  },
  {
   "cell_type": "raw",
   "metadata": {},
   "source": [
    "print(response)"
   ]
  },
  {
   "cell_type": "code",
   "execution_count": 94,
   "metadata": {},
   "outputs": [
    {
     "name": "stdout",
     "output_type": "stream",
     "text": [
      "Status: 200 and reason: OK\n",
      "{'shipments': [{'id': '5985112475', 'service': 'express', 'origin': {'address': {'addressLocality': 'SIALKOT - SIALKOT - PAKISTAN'}}, 'destination': {'address': {'addressLocality': 'LAHORE - PYONGYANG - PAKISTAN'}}, 'status': {'timestamp': '2020-12-12T16:54:00', 'location': {'address': {'addressLocality': 'LAHORE - PAKISTAN'}}, 'statusCode': 'failure', 'status': 'exception', 'description': 'Returned to shipper'}, 'details': {'proofOfDelivery': {'signatureUrl': 'https://webpod.dhl.com/webPOD/DHLePODRequest?hwb=mlr5WEw29nzCRB4zRtoV1w%3D%3D&pudate=huRjXk8x%2Ffl5PgHwAtxraQ%3D%3D&appuid=kgizgYhCcLKgeY8pOxPMZw%3D%3D&language=en&country=GB', 'documentUrl': 'https://webpod.dhl.com/webPOD/DHLePODRequest?hwb=mlr5WEw29nzCRB4zRtoV1w%3D%3D&pudate=huRjXk8x%2Ffl5PgHwAtxraQ%3D%3D&appuid=kgizgYhCcLKgeY8pOxPMZw%3D%3D&language=en&country=GB'}, 'totalNumberOfPieces': 1, 'pieceIds': ['JD014600008086091490']}, 'events': [{'timestamp': '2020-12-12T16:54:00', 'location': {'address': {'addressLocality': 'LAHORE - PAKISTAN'}}, 'description': 'Returned to shipper'}, {'timestamp': '2020-12-12T09:07:00', 'location': {'address': {'addressLocality': 'LAHORE - PAKISTAN'}}, 'description': 'Clearance event'}, {'timestamp': '2020-12-11T08:51:00', 'location': {'address': {'addressLocality': 'LAHORE - PAKISTAN'}}, 'description': 'Clearance event'}, {'timestamp': '2020-12-11T04:02:00', 'location': {'address': {'addressLocality': 'LAHORE - PAKISTAN'}}, 'description': 'Arrived at Sort Facility LAHORE - PAKISTAN'}, {'timestamp': '2020-12-11T00:11:00', 'location': {'address': {'addressLocality': 'SIALKOT - PAKISTAN'}}, 'description': 'Departed Facility in SIALKOT - PAKISTAN'}, {'timestamp': '2020-12-10T23:39:00', 'location': {'address': {'addressLocality': 'SIALKOT - PAKISTAN'}}, 'description': 'Processed at SIALKOT - PAKISTAN'}, {'timestamp': '2020-12-10T19:14:00', 'location': {'address': {'addressLocality': 'SIALKOT - PAKISTAN'}}, 'description': 'Shipment picked up'}]}]}\n"
     ]
    }
   ],
   "source": [
    "import http.client\n",
    "import urllib.parse\n",
    "import json\n",
    "\n",
    "params = urllib.parse.urlencode({\n",
    "    'trackingNumber': '5985112475',\n",
    "    'service': 'express',\n",
    "    'requesterCountryCode': 'GB'\n",
    "})\n",
    "\n",
    "headers = {\n",
    "    'Accept': 'application/json',\n",
    "    'DHL-API-Key': 'p3gobvnJb7A1qAeiuAzNPpET5jHyv3aT'\n",
    "}\n",
    "\n",
    "connection = http.client.HTTPSConnection(\"api-eu.dhl.com\")\n",
    "\n",
    "connection.request(\"GET\", \"/track/shipments?\" + params, \"\", headers)\n",
    "response = connection.getresponse()\n",
    "\n",
    "status = response.status\n",
    "reason = response.reason\n",
    "data = json.loads(response.read())\n",
    "\n",
    "print(\"Status: {} and reason: {}\".format(status, reason))\n",
    "print(data)\n",
    "\n",
    "#connection.close()"
   ]
  },
  {
   "cell_type": "code",
   "execution_count": null,
   "metadata": {},
   "outputs": [],
   "source": []
  }
 ],
 "metadata": {
  "kernelspec": {
   "display_name": "Python 3",
   "language": "python",
   "name": "python3"
  },
  "language_info": {
   "codemirror_mode": {
    "name": "ipython",
    "version": 3
   },
   "file_extension": ".py",
   "mimetype": "text/x-python",
   "name": "python",
   "nbconvert_exporter": "python",
   "pygments_lexer": "ipython3",
   "version": "3.8.3"
  }
 },
 "nbformat": 4,
 "nbformat_minor": 4
}
