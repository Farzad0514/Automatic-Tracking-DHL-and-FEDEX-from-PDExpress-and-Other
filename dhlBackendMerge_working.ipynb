{
 "cells": [
  {
   "cell_type": "code",
   "execution_count": 75,
   "metadata": {},
   "outputs": [],
   "source": [
    "def dhlBackendMerge(path):\n",
    "\n",
    "    import os\n",
    "    import pandas as pd\n",
    "    #os.chdir('F:\\\\Miscellaneous drive\\\\waste\\\\kicxpert\\\\hafiz courier\\\\mergeFiles')\n",
    "    os.chdir(path)\n",
    "    file= open(\"spsFilePath.txt\", \"r\").read().split('\\n')\n",
    "\n",
    "\n",
    "    l=[]\n",
    "    for i in range (0, int(len(file))):\n",
    "        path=file[i].replace('\"','')\n",
    "        df= pd.read_csv(path,sep='|')\n",
    "        \n",
    "        #nameInitials= path.replace('F:\\\\Miscellaneous drive\\\\waste\\\\kicxpert\\\\hafiz courier\\\\mergeFiles\\\\SPS\\\\','')\n",
    "        postion= path.find('0')\n",
    "        nameInitials = path[postion:]\n",
    "        \n",
    "        fileName= str(nameInitials)+'.csv'\n",
    "        \n",
    "        CsvFilePath= 'csv/'+fileName\n",
    "        df.to_csv(CsvFilePath)\n",
    "\n",
    "        l.append(fileName)\n",
    "      \n",
    "    os.chdir('csv')\n",
    "    combined_csv = pd.concat([pd.read_csv(f) for f in l ])\n",
    "    if os.path.exists(\"combined_csv.csv\"):\n",
    "        os.remove(\"combined_csv.csv\")\n",
    "    combined_csv.to_csv( \"combined_csv.csv\", index=False, encoding='utf-8-sig')\n",
    "\n",
    "\n",
    "    for i in range (0, int(len(l))):\n",
    "        if os.path.exists(l[i]):\n",
    "            os.remove(l[i])\n",
    "            \n",
    "            \n",
    "    # result = combined_csv.loc[:, ['Unnamed: 8', 'Unnamed: 23']]\n",
    "    # if os.path.exists(\"result.csv\"):\n",
    "    #     os.remove(\"result.csv\")\n",
    "\n",
    "    # result.to_csv( \"result.csv\", index=False, encoding='utf-8-sig')"
   ]
  },
  {
   "cell_type": "code",
   "execution_count": 76,
   "metadata": {},
   "outputs": [],
   "source": [
    "path= 'F:\\\\Miscellaneous drive\\\\waste\\\\kicxpert\\\\hafiz courier\\\\mergeFiles'\n",
    "\n",
    "dhlBackendMerge(path)"
   ]
  },
  {
   "cell_type": "code",
   "execution_count": null,
   "metadata": {},
   "outputs": [],
   "source": []
  }
 ],
 "metadata": {
  "kernelspec": {
   "display_name": "Python 3",
   "language": "python",
   "name": "python3"
  },
  "language_info": {
   "codemirror_mode": {
    "name": "ipython",
    "version": 3
   },
   "file_extension": ".py",
   "mimetype": "text/x-python",
   "name": "python",
   "nbconvert_exporter": "python",
   "pygments_lexer": "ipython3",
   "version": "3.8.3"
  }
 },
 "nbformat": 4,
 "nbformat_minor": 4
}
